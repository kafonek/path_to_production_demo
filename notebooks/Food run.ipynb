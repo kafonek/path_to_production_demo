{
 "cells": [
  {
   "cell_type": "markdown",
   "metadata": {},
   "source": [
    "### Introduction\n",
    "\n",
    "This Notebook can query for restaurants in our general area and compare them to restauraunts we've already done food runs to.  Use it to help decide where to do a lunch run today."
   ]
  },
  {
   "cell_type": "markdown",
   "metadata": {},
   "source": [
    "#### Environment setup"
   ]
  },
  {
   "cell_type": "code",
   "execution_count": null,
   "metadata": {
    "ExecuteTime": {
     "end_time": "2019-10-15T16:47:59.596853Z",
     "start_time": "2019-10-15T16:47:59.077020Z"
    }
   },
   "outputs": [],
   "source": [
    "from fake_api import search_restaurants, visited_restaurants\n",
    "import pandas as pd"
   ]
  },
  {
   "cell_type": "markdown",
   "metadata": {},
   "source": [
    "### Query for yelp-ish data"
   ]
  },
  {
   "cell_type": "code",
   "execution_count": null,
   "metadata": {
    "ExecuteTime": {
     "end_time": "2019-10-15T16:47:59.609307Z",
     "start_time": "2019-10-15T16:47:59.599370Z"
    }
   },
   "outputs": [],
   "source": [
    "results = search_restaurants()\n",
    "len(results)"
   ]
  },
  {
   "cell_type": "markdown",
   "metadata": {},
   "source": [
    "#### Clean data\n",
    "\n",
    "Read into Pandas and reformat to make it sensible"
   ]
  },
  {
   "cell_type": "code",
   "execution_count": null,
   "metadata": {
    "ExecuteTime": {
     "end_time": "2019-10-15T16:47:59.624648Z",
     "start_time": "2019-10-15T16:47:59.611220Z"
    }
   },
   "outputs": [],
   "source": [
    "df = pd.DataFrame(results)\n",
    "df.head()"
   ]
  },
  {
   "cell_type": "code",
   "execution_count": null,
   "metadata": {
    "ExecuteTime": {
     "end_time": "2019-10-15T16:47:59.658986Z",
     "start_time": "2019-10-15T16:47:59.627087Z"
    }
   },
   "outputs": [],
   "source": [
    "df = df.T\n",
    "df.head()"
   ]
  },
  {
   "cell_type": "markdown",
   "metadata": {},
   "source": [
    "### Pull up food-run history"
   ]
  },
  {
   "cell_type": "code",
   "execution_count": null,
   "metadata": {
    "ExecuteTime": {
     "end_time": "2019-10-15T16:47:59.665675Z",
     "start_time": "2019-10-15T16:47:59.661041Z"
    }
   },
   "outputs": [],
   "source": [
    "results = visited_restaurants()\n",
    "len(results)"
   ]
  },
  {
   "cell_type": "markdown",
   "metadata": {},
   "source": [
    "#### Clean data"
   ]
  },
  {
   "cell_type": "code",
   "execution_count": null,
   "metadata": {
    "ExecuteTime": {
     "end_time": "2019-10-15T16:47:59.679824Z",
     "start_time": "2019-10-15T16:47:59.667576Z"
    }
   },
   "outputs": [],
   "source": [
    "df2 = pd.DataFrame([results])\n",
    "df2.head()"
   ]
  },
  {
   "cell_type": "code",
   "execution_count": null,
   "metadata": {
    "ExecuteTime": {
     "end_time": "2019-10-15T16:47:59.690968Z",
     "start_time": "2019-10-15T16:47:59.681785Z"
    }
   },
   "outputs": [],
   "source": [
    "df2 = df2.T\n",
    "df2.columns = ['history']\n",
    "df2.head()"
   ]
  },
  {
   "cell_type": "code",
   "execution_count": null,
   "metadata": {
    "ExecuteTime": {
     "end_time": "2019-10-15T16:47:59.704667Z",
     "start_time": "2019-10-15T16:47:59.693277Z"
    }
   },
   "outputs": [],
   "source": [
    "df2['last_visited'] = df2.history.apply(lambda lst: max(lst))\n",
    "df2.head()"
   ]
  },
  {
   "cell_type": "markdown",
   "metadata": {},
   "source": [
    "### Combine data"
   ]
  },
  {
   "cell_type": "code",
   "execution_count": null,
   "metadata": {
    "ExecuteTime": {
     "end_time": "2019-10-15T16:47:59.761125Z",
     "start_time": "2019-10-15T16:47:59.706889Z"
    }
   },
   "outputs": [],
   "source": [
    "df = df.join(df2[['last_visited']])\n",
    "df.head()"
   ]
  },
  {
   "cell_type": "markdown",
   "metadata": {},
   "source": [
    "### Results"
   ]
  },
  {
   "cell_type": "markdown",
   "metadata": {},
   "source": [
    "#### All restaurants"
   ]
  },
  {
   "cell_type": "markdown",
   "metadata": {},
   "source": [
    "##### By price"
   ]
  },
  {
   "cell_type": "code",
   "execution_count": null,
   "metadata": {
    "ExecuteTime": {
     "end_time": "2019-10-15T16:48:51.909036Z",
     "start_time": "2019-10-15T16:48:51.895805Z"
    }
   },
   "outputs": [],
   "source": [
    "df.sort_values('price').head()"
   ]
  },
  {
   "cell_type": "markdown",
   "metadata": {},
   "source": [
    "##### By rating"
   ]
  },
  {
   "cell_type": "code",
   "execution_count": null,
   "metadata": {
    "ExecuteTime": {
     "end_time": "2019-10-15T16:50:39.724106Z",
     "start_time": "2019-10-15T16:50:39.712705Z"
    }
   },
   "outputs": [],
   "source": [
    "df.sort_values('rating', ascending=False).head()"
   ]
  },
  {
   "cell_type": "markdown",
   "metadata": {},
   "source": [
    "#### Unvisited restaurants"
   ]
  },
  {
   "cell_type": "code",
   "execution_count": null,
   "metadata": {
    "ExecuteTime": {
     "end_time": "2019-10-15T16:49:41.564143Z",
     "start_time": "2019-10-15T16:49:41.557983Z"
    }
   },
   "outputs": [],
   "source": [
    "unvisited = df[df.last_visited.isnull()]\n",
    "unvisited.shape"
   ]
  },
  {
   "cell_type": "markdown",
   "metadata": {},
   "source": [
    "##### By price"
   ]
  },
  {
   "cell_type": "code",
   "execution_count": null,
   "metadata": {
    "ExecuteTime": {
     "end_time": "2019-10-15T16:49:49.641788Z",
     "start_time": "2019-10-15T16:49:49.630884Z"
    }
   },
   "outputs": [],
   "source": [
    "unvisited.sort_values('price').head()"
   ]
  },
  {
   "cell_type": "markdown",
   "metadata": {},
   "source": [
    "##### By rating"
   ]
  },
  {
   "cell_type": "code",
   "execution_count": null,
   "metadata": {
    "ExecuteTime": {
     "end_time": "2019-10-15T16:50:54.249619Z",
     "start_time": "2019-10-15T16:50:54.236842Z"
    }
   },
   "outputs": [],
   "source": [
    "unvisited.sort_values('rating', ascending=False).head()"
   ]
  },
  {
   "cell_type": "markdown",
   "metadata": {},
   "source": [
    "### CSV output"
   ]
  },
  {
   "cell_type": "code",
   "execution_count": null,
   "metadata": {
    "ExecuteTime": {
     "end_time": "2019-10-15T16:52:39.346063Z",
     "start_time": "2019-10-15T16:52:39.330692Z"
    }
   },
   "outputs": [],
   "source": [
    "from IPython.display import FileLink\n",
    "fname = 'food_run.csv'\n",
    "df.sort_values(['last_visited', 'rating', 'price'], ascending=False).to_csv(fname, index=False)\n",
    "\n",
    "FileLink(fname)"
   ]
  },
  {
   "cell_type": "code",
   "execution_count": null,
   "metadata": {},
   "outputs": [],
   "source": []
  }
 ],
 "metadata": {
  "kernelspec": {
   "display_name": "Python 3",
   "language": "python",
   "name": "python3"
  },
  "language_info": {
   "codemirror_mode": {
    "name": "ipython",
    "version": 3
   },
   "file_extension": ".py",
   "mimetype": "text/x-python",
   "name": "python",
   "nbconvert_exporter": "python",
   "pygments_lexer": "ipython3",
   "version": "3.7.3"
  },
  "toc": {
   "base_numbering": 1,
   "nav_menu": {},
   "number_sections": true,
   "sideBar": true,
   "skip_h1_title": false,
   "title_cell": "Table of Contents",
   "title_sidebar": "Contents",
   "toc_cell": false,
   "toc_position": {},
   "toc_section_display": true,
   "toc_window_display": true
  }
 },
 "nbformat": 4,
 "nbformat_minor": 2
}
