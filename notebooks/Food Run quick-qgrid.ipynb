{
 "cells": [
  {
   "cell_type": "code",
   "execution_count": null,
   "metadata": {},
   "outputs": [],
   "source": [
    "from fake_api import search_restaurants, visited_restaurants\n",
    "import pandas as pd\n",
    "import qgrid\n",
    "\n",
    "### Search for all restaurants, no filter on price/rating\n",
    "df = pd.DataFrame(search_restaurants())\n",
    "df = df.T\n",
    "\n",
    "### Pull back 'already eaten at' list\n",
    "df2 = pd.DataFrame([visited_restaurants()])\n",
    "df2 = df2.T\n",
    "df2.columns = [\"history\"]\n",
    "df2[\"last_visited\"] = df2.history.apply(lambda lst: max(lst))\n",
    "\n",
    "### Join results\n",
    "df = df.join(df2[[\"last_visited\"]])\n",
    "df = df.sort_values([\"last_visited\", \"rating\", \"price\"], ascending=False)\n",
    "\n",
    "### Display as qgrid widget\n",
    "q = qgrid.show_grid(df)\n",
    "q"
   ]
  },
  {
   "cell_type": "code",
   "execution_count": null,
   "metadata": {},
   "outputs": [],
   "source": []
  }
 ],
 "metadata": {
  "kernelspec": {
   "display_name": "Python 3",
   "language": "python",
   "name": "python3"
  },
  "language_info": {
   "codemirror_mode": {
    "name": "ipython",
    "version": 3
   },
   "file_extension": ".py",
   "mimetype": "text/x-python",
   "name": "python",
   "nbconvert_exporter": "python",
   "pygments_lexer": "ipython3",
   "version": "3.7.3"
  },
  "toc": {
   "base_numbering": 1,
   "nav_menu": {},
   "number_sections": true,
   "sideBar": true,
   "skip_h1_title": false,
   "title_cell": "Table of Contents",
   "title_sidebar": "Contents",
   "toc_cell": false,
   "toc_position": {},
   "toc_section_display": true,
   "toc_window_display": false
  }
 },
 "nbformat": 4,
 "nbformat_minor": 2
}
